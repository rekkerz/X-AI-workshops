{
  "nbformat": 4,
  "nbformat_minor": 0,
  "metadata": {
    "colab": {
      "name": "workshop_1.ipynb",
      "provenance": [],
      "collapsed_sections": [
        "MjiziHA5qTkW",
        "y_su4Ozc__dP",
        "omRR716s6F4D",
        "7vBGX8ow6c7d",
        "o89X172TBnCG",
        "giAEYdECFOxO",
        "IDZ_TuT0BvSN",
        "Y1UNy8WAWYzD",
        "XWBCSCfHB3we",
        "N2KsSg5ri0Fl",
        "9d4Ahxr8i55Z",
        "3QVEHhx8i8UJ"
      ],
      "include_colab_link": true
    },
    "kernelspec": {
      "name": "python3",
      "display_name": "Python 3"
    },
    "accelerator": "GPU"
  },
  "cells": [
    {
      "cell_type": "markdown",
      "metadata": {
        "id": "view-in-github",
        "colab_type": "text"
      },
      "source": [
        "<a href=\"https://colab.research.google.com/github/rekkerz/X-AI-workshops/blob/master/workshop_1.ipynb\" target=\"_parent\"><img src=\"https://colab.research.google.com/assets/colab-badge.svg\" alt=\"Open In Colab\"/></a>"
      ]
    },
    {
      "cell_type": "markdown",
      "metadata": {
        "id": "GS5dWe7hqUWo",
        "colab_type": "text"
      },
      "source": [
        "# **X-AI Workshop 1:**\n",
        "---\n",
        "### Objectives:\n",
        "\n",
        "\n",
        "*   Understand the basics of Python\n",
        "*   Be able to write Python programs\n",
        "\n",
        "\n",
        "---\n",
        "\n",
        "### Content:\n",
        "\n",
        "\n",
        "*   Variables and Types\n",
        "*   Lists\n",
        "*   Basic Operators\n",
        "*   String Formatting\n",
        "*   Basic String Operations\n",
        "*   Conditions\n",
        "*   Loops\n",
        "*   Functions\n",
        "*   Classes and Objects\n",
        "*   Dictionaries\n",
        "\n",
        "\n",
        "\n",
        "\n",
        "\n",
        "\n",
        "\n",
        "\n",
        "\n",
        "\n",
        "\n"
      ]
    },
    {
      "cell_type": "markdown",
      "metadata": {
        "id": "MjiziHA5qTkW",
        "colab_type": "text"
      },
      "source": [
        "---\n",
        "## Next lesson:"
      ]
    },
    {
      "cell_type": "markdown",
      "metadata": {
        "id": "bvWRCqZfra5g",
        "colab_type": "text"
      },
      "source": [
        "Installing and rendering dependencies:"
      ]
    },
    {
      "cell_type": "code",
      "metadata": {
        "id": "6Ec_m_FcqXE1",
        "colab_type": "code",
        "outputId": "3d02d11e-e268-461c-8059-bcdce74f5333",
        "colab": {
          "base_uri": "https://localhost:8080/",
          "height": 34
        }
      },
      "source": [
        "#remove \" > /dev/null 2>&1\" to see what is going on under the hood\n",
        "!pip install gym pyvirtualdisplay > /dev/null 2>&1\n",
        "!apt-get install -y xvfb python-opengl ffmpeg > /dev/null 2>&1\n",
        "!apt-get update > /dev/null 2>&1\n",
        "!apt-get install cmake > /dev/null 2>&1\n",
        "!pip install --upgrade setuptools 2>&1\n",
        "!pip install ez_setup > /dev/null 2>&1\n",
        "!pip install gym[atari] > /dev/null 2>&1"
      ],
      "execution_count": 0,
      "outputs": [
        {
          "output_type": "stream",
          "text": [
            "Requirement already up-to-date: setuptools in /usr/local/lib/python3.6/dist-packages (45.1.0)\n"
          ],
          "name": "stdout"
        }
      ]
    },
    {
      "cell_type": "markdown",
      "metadata": {
        "id": "1nuUbXYcrgT-",
        "colab_type": "text"
      },
      "source": [
        "Imports and Helper Functions:\n"
      ]
    },
    {
      "cell_type": "code",
      "metadata": {
        "id": "h2hERd5Lri4b",
        "colab_type": "code",
        "outputId": "df1882f4-7ce8-445b-b711-d5a0ab8518df",
        "colab": {
          "base_uri": "https://localhost:8080/",
          "height": 63
        }
      },
      "source": [
        "import gym\n",
        "from gym import logger as gymlogger\n",
        "from gym.wrappers import Monitor\n",
        "gymlogger.set_level(40) #error only\n",
        "import tensorflow as tf\n",
        "import numpy as np\n",
        "import random\n",
        "import matplotlib\n",
        "import matplotlib.pyplot as plt\n",
        "%matplotlib inline\n",
        "import math\n",
        "import glob\n",
        "import io\n",
        "import base64\n",
        "from IPython.display import HTML\n",
        "\n",
        "from IPython import display as ipythondisplay"
      ],
      "execution_count": 0,
      "outputs": [
        {
          "output_type": "display_data",
          "data": {
            "text/html": [
              "<p style=\"color: red;\">\n",
              "The default version of TensorFlow in Colab will soon switch to TensorFlow 2.x.<br>\n",
              "We recommend you <a href=\"https://www.tensorflow.org/guide/migrate\" target=\"_blank\">upgrade</a> now \n",
              "or ensure your notebook will continue to use TensorFlow 1.x via the <code>%tensorflow_version 1.x</code> magic:\n",
              "<a href=\"https://colab.research.google.com/notebooks/tensorflow_version.ipynb\" target=\"_blank\">more info</a>.</p>\n"
            ],
            "text/plain": [
              "<IPython.core.display.HTML object>"
            ]
          },
          "metadata": {
            "tags": []
          }
        }
      ]
    },
    {
      "cell_type": "code",
      "metadata": {
        "id": "tfNJ2fQJqlZy",
        "colab_type": "code",
        "outputId": "f5ac19d4-53d0-4832-cb35-33cf5f4181b3",
        "colab": {
          "base_uri": "https://localhost:8080/",
          "height": 71
        }
      },
      "source": [
        "from pyvirtualdisplay import Display\n",
        "display = Display(visible=0, size=(1400, 900))\n",
        "display.start()"
      ],
      "execution_count": 0,
      "outputs": [
        {
          "output_type": "stream",
          "text": [
            "xdpyinfo was not found, X start can not be checked! Please install xdpyinfo!\n"
          ],
          "name": "stderr"
        },
        {
          "output_type": "execute_result",
          "data": {
            "text/plain": [
              "<Display cmd_param=['Xvfb', '-br', '-nolisten', 'tcp', '-screen', '0', '1400x900x24', ':1001'] cmd=['Xvfb', '-br', '-nolisten', 'tcp', '-screen', '0', '1400x900x24', ':1001'] oserror=None return_code=None stdout=\"None\" stderr=\"None\" timeout_happened=False>"
            ]
          },
          "metadata": {
            "tags": []
          },
          "execution_count": 4
        }
      ]
    },
    {
      "cell_type": "code",
      "metadata": {
        "id": "rfnu_vMYrsps",
        "colab_type": "code",
        "colab": {}
      },
      "source": [
        "\"\"\"\n",
        "Utility functions to enable video recording of gym environment and displaying it\n",
        "To enable video, just do \"env = wrap_env(env)\"\"\n",
        "\"\"\"\n",
        "\n",
        "def show_video():\n",
        "  mp4list = glob.glob('video/*.mp4')\n",
        "  if len(mp4list) > 0:\n",
        "    mp4 = mp4list[0]\n",
        "    video = io.open(mp4, 'r+b').read()\n",
        "    encoded = base64.b64encode(video)\n",
        "    ipythondisplay.display(HTML(data='''<video alt=\"test\" autoplay \n",
        "                loop controls style=\"height: 400px;\">\n",
        "                <source src=\"data:video/mp4;base64,{0}\" type=\"video/mp4\" />\n",
        "             </video>'''.format(encoded.decode('ascii'))))\n",
        "  else: \n",
        "    print(\"Could not find video\")\n",
        "    \n",
        "\n",
        "def wrap_env(env):\n",
        "  env = Monitor(env, './video', force=True)\n",
        "  return env"
      ],
      "execution_count": 0,
      "outputs": []
    },
    {
      "cell_type": "markdown",
      "metadata": {
        "id": "u1kcE-5trwAM",
        "colab_type": "text"
      },
      "source": [
        "Pacman Time!\n"
      ]
    },
    {
      "cell_type": "code",
      "metadata": {
        "id": "ZA318y3JqZ20",
        "colab_type": "code",
        "colab": {}
      },
      "source": [
        "env = wrap_env(gym.make(\"MsPacman-v0\"))"
      ],
      "execution_count": 0,
      "outputs": []
    },
    {
      "cell_type": "code",
      "metadata": {
        "id": "QWSqbOCsrywe",
        "colab_type": "code",
        "outputId": "169835d9-36b3-4516-8434-218bcc48445a",
        "colab": {
          "base_uri": "https://localhost:8080/",
          "height": 34
        }
      },
      "source": [
        "#check out the pacman action space!\n",
        "print(env.action_space)"
      ],
      "execution_count": 0,
      "outputs": [
        {
          "output_type": "stream",
          "text": [
            "Discrete(9)\n"
          ],
          "name": "stdout"
        }
      ]
    },
    {
      "cell_type": "code",
      "metadata": {
        "id": "FOx2ldQTr104",
        "colab_type": "code",
        "outputId": "2b2ba2d0-260e-4f45-b019-ebbea1bc678b",
        "colab": {
          "base_uri": "https://localhost:8080/",
          "height": 421
        }
      },
      "source": [
        "observation = env.reset()\n",
        "\n",
        "while True:\n",
        "  \n",
        "    env.render()\n",
        "    \n",
        "    #your agent goes here\n",
        "    action = env.action_space.sample() \n",
        "         \n",
        "    observation, reward, done, info = env.step(action) \n",
        "   \n",
        "        \n",
        "    if done: \n",
        "      break;\n",
        "            \n",
        "env.close()\n",
        "show_video()"
      ],
      "execution_count": 0,
      "outputs": [
        {
          "output_type": "display_data",
          "data": {
            "text/html": [
              "<video alt=\"test\" autoplay \n",
              "                loop controls style=\"height: 400px;\">\n",
              "                <source src=\"data:video/mp4;base64,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\" type=\"video/mp4\" />\n",
              "             </video>"
            ],
            "text/plain": [
              "<IPython.core.display.HTML object>"
            ]
          },
          "metadata": {
            "tags": []
          }
        }
      ]
    },
    {
      "cell_type": "markdown",
      "metadata": {
        "id": "y_su4Ozc__dP",
        "colab_type": "text"
      },
      "source": [
        "---\n",
        "## Variables and Types:\n"
      ]
    },
    {
      "cell_type": "markdown",
      "metadata": {
        "id": "SHL4mIkMAoSP",
        "colab_type": "text"
      },
      "source": [
        "\n",
        "> ### Numbers:\n",
        "> Python supports two types of numbers - integers and floating point numbers."
      ]
    },
    {
      "cell_type": "code",
      "metadata": {
        "id": "EfK9iS8IzmaC",
        "colab_type": "code",
        "outputId": "6fbdfabe-245b-48c5-f8ab-2a599d270718",
        "colab": {
          "base_uri": "https://localhost:8080/",
          "height": 136
        }
      },
      "source": [
        "my_int = 7\n",
        "print(\"my_int = \",my_int)\n",
        "\n",
        "my_int2 = int(4.12)\n",
        "print(\"my_int2 = \",my_int2)\n",
        "\n",
        "# Mathematical operations\n",
        "my_int3 = my_int + my_int2\n",
        "print(\"my_int3 = \",my_int3,\"\\n\\n\")\n",
        "\n",
        "\n",
        "my_float = 6.9\n",
        "print(\"my_float = \",my_float)\n",
        "\n",
        "my_float2 = float(6)\n",
        "print(\"my_float2 = \",my_float2)\n"
      ],
      "execution_count": 0,
      "outputs": [
        {
          "output_type": "stream",
          "text": [
            "my_int =  7\n",
            "my_int2 =  4\n",
            "my_int3 =  11 \n",
            "\n",
            "\n",
            "my_float =  6.9\n",
            "my_float2 =  6.0\n"
          ],
          "name": "stdout"
        }
      ]
    },
    {
      "cell_type": "markdown",
      "metadata": {
        "id": "vwakC0Re0hxA",
        "colab_type": "text"
      },
      "source": [
        "### Your turn:\n",
        "\n",
        "_a = 4.12 ; b = 5.61_\n",
        "\n",
        "1.   Define 2 float numbers, _a_ and _b_\n",
        "2.   Find the sum of 2 numbers\n",
        "3.   Print the sum of 2 numbers\n",
        "\n",
        "\n",
        "\n"
      ]
    },
    {
      "cell_type": "code",
      "metadata": {
        "id": "HC7GTJa-1ET8",
        "colab_type": "code",
        "colab": {}
      },
      "source": [
        ""
      ],
      "execution_count": 0,
      "outputs": []
    },
    {
      "cell_type": "markdown",
      "metadata": {
        "id": "O9TqZfvF1wyV",
        "colab_type": "text"
      },
      "source": [
        "> ### Strings:\n",
        "> In Python, strings are defined with a single quote or a double quote.\n",
        "\n",
        "> To join strings together, you can use \"+\" operator."
      ]
    },
    {
      "cell_type": "code",
      "metadata": {
        "id": "8Pwam-A919Eq",
        "colab_type": "code",
        "colab": {}
      },
      "source": [
        "my_string = 'hello'\n",
        "print(my_string)\n",
        "\n",
        "my_string2 = \"Bob\"\n",
        "print(my_string2)\n",
        "\n",
        "# Joining a string is very simple.\n",
        "my_string3 = my_string + \" \" + my_string2\n",
        "print(my_string3)\n",
        "\n"
      ],
      "execution_count": 0,
      "outputs": []
    },
    {
      "cell_type": "markdown",
      "metadata": {
        "id": "_HSXqrN35OLm",
        "colab_type": "text"
      },
      "source": [
        "#### Your turn!\n",
        "> The target of this exercise is to create a string, an integer and a floating point number.\n",
        "\n",
        ">The string should be named mystring and should contain the world \"hello\"\n",
        "\n",
        ">The floating point number should be named myfloat and should contain the number 10.0\n",
        "\n",
        "> The integer should be named myint and should contain number 20\n"
      ]
    },
    {
      "cell_type": "code",
      "metadata": {
        "id": "sqSEtXgt5Lpp",
        "colab_type": "code",
        "outputId": "5dce3372-16cb-4940-a301-a807477b65ad",
        "colab": {
          "base_uri": "https://localhost:8080/",
          "height": 68
        }
      },
      "source": [
        "# change this code\n",
        "mystring = None\n",
        "myfloat = None\n",
        "myint = None\n",
        "\n",
        "# testing code\n",
        "if mystring == \"hello\":\n",
        "    print(\"String: %s\" % mystring)\n",
        "if isinstance(myfloat, float) and myfloat == 10.0:\n",
        "    print(\"Float: %f\" % myfloat)\n",
        "if isinstance(myint, int) and myint == 20:\n",
        "    print(\"Integer: %d\" % myint)"
      ],
      "execution_count": 0,
      "outputs": [
        {
          "output_type": "stream",
          "text": [
            "String: hello\n",
            "Float: 10.000000\n",
            "Integer: 20\n"
          ],
          "name": "stdout"
        }
      ]
    },
    {
      "cell_type": "markdown",
      "metadata": {
        "id": "omRR716s6F4D",
        "colab_type": "text"
      },
      "source": [
        "---\n",
        "## Lists:"
      ]
    },
    {
      "cell_type": "markdown",
      "metadata": {
        "id": "iqKbxVPFAlVn",
        "colab_type": "text"
      },
      "source": [
        "> Lists are very similar to arrays. They contain any type of variable, and they can contain as many variables as you wish. Lists can also be iterated over in a very simple manner. Here's an example of how to build a list."
      ]
    },
    {
      "cell_type": "code",
      "metadata": {
        "id": "aQhMMn9c68RW",
        "colab_type": "code",
        "outputId": "dcf63307-899f-4f38-b7e5-a8521be244aa",
        "colab": {
          "base_uri": "https://localhost:8080/",
          "height": 102
        }
      },
      "source": [
        "my_list = []  # Define the list\n",
        "\n",
        "my_list.append(1)         # Add integer 1 to the list\n",
        "my_list.append(\"hello\")   # Add string \"hello\" to the list\n",
        "my_list.append(6.9)       # Add floating point number 6.9 to the list\n",
        "\n",
        "print(my_list)        # You can print the entire list using print function\n",
        "print(my_list[0])     # Or you can print an item with specific index - remember Python counts from 0.\n",
        "\n",
        "for x in my_list:     # You can also use a for loop to go through the list - more details later.\n",
        "  print(x)\n"
      ],
      "execution_count": 0,
      "outputs": [
        {
          "output_type": "stream",
          "text": [
            "[1, 'hello', 6.9]\n",
            "1\n",
            "1\n",
            "hello\n",
            "6.9\n"
          ],
          "name": "stdout"
        }
      ]
    },
    {
      "cell_type": "markdown",
      "metadata": {
        "id": "CpijccBK8QGv",
        "colab_type": "text"
      },
      "source": [
        "#### Your turn:\n",
        "\n",
        "> In this exercise, you will need to add numbers and strings to the correct lists using the \"append\" list method.\n",
        "\n",
        "\n",
        "1.   Add the numbers 1,2 and 3 to the \"numbers\" list\n",
        "2.   Add the strings \"hello\" and \"world\" to the \"strings\" list.\n",
        "3.   Set the variable second_number to be equal to the 2nd element of \"numbers\" array.\n",
        "\n"
      ]
    },
    {
      "cell_type": "code",
      "metadata": {
        "id": "-tJVVTES8pO6",
        "colab_type": "code",
        "cellView": "code",
        "outputId": "75db2902-048b-439f-e85c-2665f35f640c",
        "colab": {
          "base_uri": "https://localhost:8080/",
          "height": 68
        }
      },
      "source": [
        "#@title Default title text\n",
        "numbers = []\n",
        "strings = []\n",
        "\n",
        "# Add the numbers to the list \"numbers\"\n",
        "numbers.append(None) \n",
        "numbers.append(None)\n",
        "numbers.append(None)\n",
        "\n",
        "# Add strings to the list \"strings\"\n",
        "  # Your code goes here\n",
        "\n",
        "second_number = None # change this\n",
        "\n",
        "print(numbers,\" should be [1, 2, 3]\")\n",
        "print(second_number, \" should be 2\")\n",
        "print(strings, \"should be ['hello','world']\")\n",
        "\n"
      ],
      "execution_count": 0,
      "outputs": [
        {
          "output_type": "stream",
          "text": [
            "[None, None, None]  should be [1, 2, 3]\n",
            "None  should be 2\n",
            "[] should be ['hello','world']\n"
          ],
          "name": "stdout"
        }
      ]
    },
    {
      "cell_type": "markdown",
      "metadata": {
        "id": "3t-G7vYlAkN6",
        "colab_type": "text"
      },
      "source": [
        ""
      ]
    },
    {
      "cell_type": "markdown",
      "metadata": {
        "id": "7vBGX8ow6c7d",
        "colab_type": "text"
      },
      "source": [
        "---\n",
        "## Basic Operators:\n",
        "\n"
      ]
    },
    {
      "cell_type": "markdown",
      "metadata": {
        "id": "jBUfVsqvAsrN",
        "colab_type": "text"
      },
      "source": [
        "#### Arithmetic Operators\n",
        "\n",
        "> Just as any programming languages, the addition, substraction, multiplication and division operators can be use with numbers. Below are the basic operators.\n",
        "\n",
        "\n",
        "*   \" / \" = divide\n",
        "*   \" * \" = multiply\n",
        "*   \" + \" = add\n",
        "*   \" - \" = substract\n",
        "*   \" % \" = modulo\n",
        "*   \" ** \" = squared"
      ]
    },
    {
      "cell_type": "code",
      "metadata": {
        "id": "W-0C4pQb-oeS",
        "colab_type": "code",
        "outputId": "9e8913bf-f74b-4ea3-ebd1-1bee343d7fe0",
        "colab": {
          "base_uri": "https://localhost:8080/",
          "height": 34
        }
      },
      "source": [
        "number = 1 + (2 * 8)/ 4\n",
        "print(number)"
      ],
      "execution_count": 0,
      "outputs": [
        {
          "output_type": "stream",
          "text": [
            "5.0\n"
          ],
          "name": "stdout"
        }
      ]
    },
    {
      "cell_type": "code",
      "metadata": {
        "id": "4IXvosKy--4g",
        "colab_type": "code",
        "outputId": "e341fb0f-d17e-4dab-aee8-6cd610448c16",
        "colab": {
          "base_uri": "https://localhost:8080/",
          "height": 34
        }
      },
      "source": [
        "remainder = 11 % 3\n",
        "print(remainder)"
      ],
      "execution_count": 0,
      "outputs": [
        {
          "output_type": "stream",
          "text": [
            "2\n"
          ],
          "name": "stdout"
        }
      ]
    },
    {
      "cell_type": "code",
      "metadata": {
        "id": "ZdTKpjAH_EY2",
        "colab_type": "code",
        "outputId": "87e6d799-1928-445f-8a21-52a12df97293",
        "colab": {
          "base_uri": "https://localhost:8080/",
          "height": 51
        }
      },
      "source": [
        "squared = 7 ** 2\n",
        "cubed = 2 ** 3\n",
        "print(squared)\n",
        "print(cubed)"
      ],
      "execution_count": 0,
      "outputs": [
        {
          "output_type": "stream",
          "text": [
            "49\n",
            "8\n"
          ],
          "name": "stdout"
        }
      ]
    },
    {
      "cell_type": "markdown",
      "metadata": {
        "id": "WgEBY9tp_LJ4",
        "colab_type": "text"
      },
      "source": [
        "#### Using Operators with Strings\n",
        "\n",
        "> Python supports concatenating strings using the addition operator:"
      ]
    },
    {
      "cell_type": "code",
      "metadata": {
        "id": "eAwPO3tz_VUZ",
        "colab_type": "code",
        "outputId": "4bb75bdf-c805-47f8-e75b-fa2de25cc475",
        "colab": {
          "base_uri": "https://localhost:8080/",
          "height": 34
        }
      },
      "source": [
        "hello_world = \"hello\" + \" \" + \"world\"\n",
        "print(hello_world)"
      ],
      "execution_count": 0,
      "outputs": [
        {
          "output_type": "stream",
          "text": [
            "hello world\n"
          ],
          "name": "stdout"
        }
      ]
    },
    {
      "cell_type": "markdown",
      "metadata": {
        "id": "c3APAqpe_ljx",
        "colab_type": "text"
      },
      "source": [
        "> Python also support multiplying strings to form a string with a repeating sequence"
      ]
    },
    {
      "cell_type": "code",
      "metadata": {
        "id": "Qp7DC5lg_kxB",
        "colab_type": "code",
        "outputId": "4ed97010-9a14-4ab0-eef4-83f23534d121",
        "colab": {
          "base_uri": "https://localhost:8080/",
          "height": 54
        }
      },
      "source": [
        "lots = 69\n",
        "lots_of_bread = \"bread \" * lots\n",
        "\n",
        "print(lots_of_bread)"
      ],
      "execution_count": 0,
      "outputs": [
        {
          "output_type": "stream",
          "text": [
            "bread bread bread bread bread bread bread bread bread bread bread bread bread bread bread bread bread bread bread bread bread bread bread bread bread bread bread bread bread bread bread bread bread bread bread bread bread bread bread bread bread bread bread bread bread bread bread bread bread bread bread bread bread bread bread bread bread bread bread bread bread bread bread bread bread bread bread bread bread \n"
          ],
          "name": "stdout"
        }
      ]
    },
    {
      "cell_type": "markdown",
      "metadata": {
        "id": "VBz1m-9Z_3sP",
        "colab_type": "text"
      },
      "source": [
        "#### Using Operators with Lists\n",
        "> Lists can be joined with the addition operators"
      ]
    },
    {
      "cell_type": "code",
      "metadata": {
        "id": "hESbRqaeA2CO",
        "colab_type": "code",
        "outputId": "b6e5ca97-f414-4fb3-c8ac-756b0dbd62d7",
        "colab": {
          "base_uri": "https://localhost:8080/",
          "height": 51
        }
      },
      "source": [
        "even_numbers = [2,4,6,8]\n",
        "odd_numbers = [1,3,5,7]\n",
        "\n",
        "all_numbers = even_numbers + odd_numbers\n",
        "print(all_numbers)"
      ],
      "execution_count": 0,
      "outputs": [
        {
          "output_type": "stream",
          "text": [
            "[2, 4, 6, 8, 1, 3, 5, 7]\n",
            "[2, 4, 6, 8, 1, 3, 5, 7, 2, 4, 6, 8, 1, 3, 5, 7, 2, 4, 6, 8, 1, 3, 5, 7, 2, 4, 6, 8, 1, 3, 5, 7, 2, 4, 6, 8, 1, 3, 5, 7]\n"
          ],
          "name": "stdout"
        }
      ]
    },
    {
      "cell_type": "markdown",
      "metadata": {
        "id": "Q09mMcdwBN_i",
        "colab_type": "text"
      },
      "source": [
        "> You can also use the \" * \" operator to print off the list n times"
      ]
    },
    {
      "cell_type": "code",
      "metadata": {
        "id": "hAYBWxg1BS62",
        "colab_type": "code",
        "outputId": "2f2a382f-352f-4ae7-dd0f-edee4ac27c81",
        "colab": {
          "base_uri": "https://localhost:8080/",
          "height": 34
        }
      },
      "source": [
        "print(all_numbers*5)"
      ],
      "execution_count": 0,
      "outputs": [
        {
          "output_type": "stream",
          "text": [
            "[2, 4, 6, 8, 1, 3, 5, 7, 2, 4, 6, 8, 1, 3, 5, 7, 2, 4, 6, 8, 1, 3, 5, 7, 2, 4, 6, 8, 1, 3, 5, 7, 2, 4, 6, 8, 1, 3, 5, 7]\n"
          ],
          "name": "stdout"
        }
      ]
    },
    {
      "cell_type": "markdown",
      "metadata": {
        "id": "_9D9rUdf9zrD",
        "colab_type": "text"
      },
      "source": [
        "#### Your turn!\n",
        "\n",
        "The target of this exercise is to create two lists called \"x_list\" and \"y_list\", which contain 10 instances of variables x and y, respectively. You are also required to create a list called \"big_list\", which contains the variables x and y, 10 times each, byt concaternating the two lists you have created.\n",
        "\n",
        "The first list has been completed for you."
      ]
    },
    {
      "cell_type": "code",
      "metadata": {
        "id": "0cvYpZqU-Qbr",
        "colab_type": "code",
        "outputId": "e4205458-7514-46df-ab56-f9d715a307a6",
        "colab": {
          "base_uri": "https://localhost:8080/",
          "height": 68
        }
      },
      "source": [
        "x = object()\n",
        "y = object()\n",
        "\n",
        "# TODO: change this code\n",
        "x_list = [x] * 10\n",
        "y_list = [y]\n",
        "big_list = []\n",
        "\n",
        "\n",
        "print(\"x_list contains %d objects\" % len(x_list))\n",
        "print(\"y_list contains %d objects\" % len(y_list))\n",
        "print(\"big_list contains %d objects\" % len(big_list))\n",
        "\n",
        "# testing code\n",
        "if x_list.count(x) == 10 and y_list.count(y) == 10:\n",
        "    print(\"Almost there...\")\n",
        "if big_list.count(x) == 10 and big_list.count(y) == 10:\n",
        "    print(\"Great!\")"
      ],
      "execution_count": 0,
      "outputs": [
        {
          "output_type": "stream",
          "text": [
            "x_list contains 10 objects\n",
            "y_list contains 1 objects\n",
            "big_list contains 0 objects\n"
          ],
          "name": "stdout"
        }
      ]
    },
    {
      "cell_type": "markdown",
      "metadata": {
        "id": "o89X172TBnCG",
        "colab_type": "text"
      },
      "source": [
        "---\n",
        "\n",
        "## String Formatting\n"
      ]
    },
    {
      "cell_type": "markdown",
      "metadata": {
        "id": "KRYF1RaEC3gV",
        "colab_type": "text"
      },
      "source": [
        "> Python uses C-style string formatting to create new, formatted strings. The \"%\" operator is used to format a set of variables enclosed in a \"tuple\" (a fixed size list), together with a format string, which contains normal text together with \"argument specifiers\", special symbols like \"%s\" and \"%d\".\n",
        "\n",
        "\n",
        "\n",
        "*   \"%s\" = String\n",
        "*   \"%d\" = Integers\n",
        "*   \"%f\" = Floating point numbers\n",
        "*   \".{ n } f = Floating point with a fixed amount of digits to the right of the dot (n)\n",
        "\n",
        "\n",
        "\n"
      ]
    },
    {
      "cell_type": "code",
      "metadata": {
        "id": "mt32pYPqEcFE",
        "colab_type": "code",
        "outputId": "83a27b38-aaa5-4697-f416-98475923b8b4",
        "colab": {
          "base_uri": "https://localhost:8080/",
          "height": 34
        }
      },
      "source": [
        "name = \"Jeff\"     # replace this with your name\n",
        "print(\"Hello, %s! \"% (name) )"
      ],
      "execution_count": 0,
      "outputs": [
        {
          "output_type": "stream",
          "text": [
            "Hello, Jeff! \n"
          ],
          "name": "stdout"
        }
      ]
    },
    {
      "cell_type": "code",
      "metadata": {
        "id": "yvoL6RkNE2Ic",
        "colab_type": "code",
        "outputId": "2c4caf21-857e-48b8-87d3-f9fd86462534",
        "colab": {
          "base_uri": "https://localhost:8080/",
          "height": 34
        }
      },
      "source": [
        "age = 12          # replace this with your age\n",
        "print(\"Hello, %s! I'm delighted to know you're %d\" %(name,age))"
      ],
      "execution_count": 0,
      "outputs": [
        {
          "output_type": "stream",
          "text": [
            "Hello, Jeff! I'm delighted to know you're 12\n"
          ],
          "name": "stdout"
        }
      ]
    },
    {
      "cell_type": "markdown",
      "metadata": {
        "id": "giAEYdECFOxO",
        "colab_type": "text"
      },
      "source": [
        "#### Your turn:\n",
        "\n",
        "> A tuple is defined for you, fill it in with relevant details.\n",
        "\n",
        "1.   List item\n",
        "2.   List item\n",
        "\n"
      ]
    },
    {
      "cell_type": "code",
      "metadata": {
        "id": "2NwCNcm8FZ1C",
        "colab_type": "code",
        "outputId": "ecec5ed1-1819-4f62-ec73-7a333412cccb",
        "colab": {
          "base_uri": "https://localhost:8080/",
          "height": 34
        }
      },
      "source": [
        "# Define these\n",
        "name = \"\"\n",
        "surname = \"\"\n",
        "age_integer = 0\n",
        "\n",
        "data = (name, surname, age_integer)\n",
        "\n",
        "print(\"Hello, %s %s! I'm glad to know you're %d years old.\" % data)\n"
      ],
      "execution_count": 0,
      "outputs": [
        {
          "output_type": "stream",
          "text": [
            "Hello,  ! I'm glad to know you're 0 years old.\n"
          ],
          "name": "stdout"
        }
      ]
    },
    {
      "cell_type": "markdown",
      "metadata": {
        "id": "IDZ_TuT0BvSN",
        "colab_type": "text"
      },
      "source": [
        "--- \n",
        "\n",
        "## Basic String Operations\n",
        " "
      ]
    },
    {
      "cell_type": "markdown",
      "metadata": {
        "id": "2eF571w-GXEW",
        "colab_type": "text"
      },
      "source": [
        "> There are a number of operations that you can perform on a string.\n",
        "\n",
        "\n",
        "*   Concaternation of two strings\n",
        "*   Length of a string\n",
        "*   Finding index of a particular letter\n",
        "*   Slicing the string\n",
        "\n"
      ]
    },
    {
      "cell_type": "code",
      "metadata": {
        "id": "JWW34cTjVqJG",
        "colab_type": "code",
        "outputId": "763c995e-94c4-4f59-ac81-9fe0084b31f8",
        "colab": {
          "base_uri": "https://localhost:8080/",
          "height": 34
        }
      },
      "source": [
        "combined = \"hello \" + \"world!\"\n",
        "print(combined)"
      ],
      "execution_count": 0,
      "outputs": [
        {
          "output_type": "stream",
          "text": [
            "hello world!\n"
          ],
          "name": "stdout"
        }
      ]
    },
    {
      "cell_type": "code",
      "metadata": {
        "id": "nFNU6Qb-Vvhy",
        "colab_type": "code",
        "outputId": "9da81016-36d9-4645-c975-045ac8b3470f",
        "colab": {
          "base_uri": "https://localhost:8080/",
          "height": 34
        }
      },
      "source": [
        "length = len(combined)\n",
        "print(length)"
      ],
      "execution_count": 0,
      "outputs": [
        {
          "output_type": "stream",
          "text": [
            "12\n"
          ],
          "name": "stdout"
        }
      ]
    },
    {
      "cell_type": "code",
      "metadata": {
        "id": "04lBKvorV1kz",
        "colab_type": "code",
        "outputId": "7ce83f68-7f99-4f3f-c6c7-403f57961bb2",
        "colab": {
          "base_uri": "https://localhost:8080/",
          "height": 34
        }
      },
      "source": [
        "characters_index = combined.index(\"o\")    # Would return the first occurence of the character in the string\n",
        "print(characters_index) "
      ],
      "execution_count": 0,
      "outputs": [
        {
          "output_type": "stream",
          "text": [
            "4\n"
          ],
          "name": "stdout"
        }
      ]
    },
    {
      "cell_type": "code",
      "metadata": {
        "id": "qrGUnvw_WJe6",
        "colab_type": "code",
        "outputId": "923f52e0-08df-4b4e-96b4-0914eae4d467",
        "colab": {
          "base_uri": "https://localhost:8080/",
          "height": 34
        }
      },
      "source": [
        "number_of_os = combined.count(\"o\")        # This would hold the number of character \"o\" in the string.\n",
        "print(number_of_os)"
      ],
      "execution_count": 0,
      "outputs": [
        {
          "output_type": "stream",
          "text": [
            "2\n"
          ],
          "name": "stdout"
        }
      ]
    },
    {
      "cell_type": "markdown",
      "metadata": {
        "id": "Y1UNy8WAWYzD",
        "colab_type": "text"
      },
      "source": [
        "#### Slicing\n",
        "\n",
        "*   Slicing is the ability to split the string between given indexes.\n",
        "\n",
        "*   In Python, a word is a list of characters. Therefore word[0] would return the first character of the word.\n",
        "\n",
        "*   [0:5] would return the first 5 characters of the word - you can imagine \":\" as being a to operator so indexes 0 to 5.\n",
        "\n",
        "*   Indexing also goes negative! [-1] is the last letter of the word\n",
        "\n",
        "*   Leaving the index blank would make it go from the start of the word - for example [:-1] would print from the start of the word, to the last letter hence printing the whole word excluding the last character\n",
        "\n",
        "*   "
      ]
    },
    {
      "cell_type": "code",
      "metadata": {
        "id": "SJKvwE7sWX7r",
        "colab_type": "code",
        "outputId": "c83e6d65-cb80-45f4-9847-951b057792af",
        "colab": {
          "base_uri": "https://localhost:8080/",
          "height": 119
        }
      },
      "source": [
        "alphabet = \"abcdefghijklmnopqrstuvwxyz\"\n",
        "\n",
        "print(\"alphabet[0] = \",alphabet[0])\n",
        "\n",
        "print(\"alphabet[0:5] = \",alphabet[0:5])\n",
        "\n",
        "print(\"alphabet[-1] = \",alphabet[-1])\n",
        "\n",
        "print(\"alphabet[::-1] = \",alphabet[::-1], \"\\n\\n\")"
      ],
      "execution_count": 0,
      "outputs": [
        {
          "output_type": "stream",
          "text": [
            "alphabet[0] =  a\n",
            "alphabet[0:5] =  abcde\n",
            "alphabet[-1] =  z\n",
            "alphabet[::-1] =  zyxwvutsrqponmlkjihgfedcba \n",
            "\n",
            "\n"
          ],
          "name": "stdout"
        }
      ]
    },
    {
      "cell_type": "code",
      "metadata": {
        "id": "xcFPZTufZKql",
        "colab_type": "code",
        "outputId": "44e5c013-dd22-4cdf-95f9-b040bd96808d",
        "colab": {
          "base_uri": "https://localhost:8080/",
          "height": 68
        }
      },
      "source": [
        "# Have a play around with the function to print out\n",
        "# 1: The 5th character in the alphabet - should be e\n",
        "print(alphabet[4])\n",
        "\n",
        "# 2: The first 9 characters of the alphabet\n",
        "print(alphabet[:9])\n",
        "\n",
        "# 3: Print the alphabet reversed\n",
        "print(alphabet[::-1])"
      ],
      "execution_count": 0,
      "outputs": [
        {
          "output_type": "stream",
          "text": [
            "e\n",
            "abcdefghi\n",
            "zyxwvutsrqponmlkjihgfedcba\n"
          ],
          "name": "stdout"
        }
      ]
    },
    {
      "cell_type": "markdown",
      "metadata": {
        "id": "IxEVWMrVdI4P",
        "colab_type": "text"
      },
      "source": [
        "There are also the following String manipulation methods which can be used:\n",
        "\n",
        "\n",
        "*   string.upper()- This would convert the string to upper case\n",
        "*   string.lower()- Convert to lower case\n",
        "*   string.startswith(\"abc\")- Checks whether the string starts with \"abc\", if it does. True is returned, otherwise False.\n",
        "*   string.endswith(\"xyz\")- Checks whether the string ends with \"xyz\".\n",
        "*   string.split(\" \") - Splits the string on space character and places it into a list\n",
        "\n"
      ]
    },
    {
      "cell_type": "code",
      "metadata": {
        "id": "f9qnsfGZd36H",
        "colab_type": "code",
        "outputId": "5fe3ec2c-7030-4369-f763-e09429dfd9a1",
        "colab": {
          "base_uri": "https://localhost:8080/",
          "height": 102
        }
      },
      "source": [
        "string = alphabet    # Previously declared alphabet\n",
        "\n",
        "print(string.upper())\n",
        "\n",
        "print(\"WOOF\".lower())\n",
        "\n",
        "print(string.startswith(\"abc\"))\n",
        "print(string.endswith(\"happiness\")) # :'(\n",
        "\n",
        "string = \"Hello, my name is Jeff!\"\n",
        "print(string.split(\" \"))\n"
      ],
      "execution_count": 0,
      "outputs": [
        {
          "output_type": "stream",
          "text": [
            "ABCDEFGHIJKLMNOPQRSTUVWXYZ\n",
            "woof\n",
            "True\n",
            "False\n",
            "['Hello,', 'my', 'name', 'is', 'Jeff!']\n"
          ],
          "name": "stdout"
        }
      ]
    },
    {
      "cell_type": "markdown",
      "metadata": {
        "id": "hY_O0I4yZ0Qu",
        "colab_type": "text"
      },
      "source": [
        "#### Your turn!\n",
        "\n",
        "__Instructions:__\n",
        "\n",
        "__EX1:__\n",
        "*   Create a string called \"input\" which would store user input\n",
        "*   Set the user input as your favourite colour, spelled out (eg. white)\n",
        "*   Initialize the variable \"input_length\" which would be equal to the length of the colour string\n",
        "*   Initialize the variable \"first_char\" which would be the first letter of the colour\n",
        "*   Store the first letter of the colour and the length of the colour in a tuple called \"data\"\n",
        "*   Print the information formatting it as shown below.\n",
        "\n",
        "__OUTPUT(\"input=white\"): \"First character of your colour is 'w' and it's length is 5!\"__\n",
        "\n",
        "__EX2:__\n",
        "\n",
        "\n",
        "*   Change the name of the colour to be all capitals using the _.upper()_ function\n",
        "*   Check whether the string \"colour\" starts with first_character using the _.startswith()_ function.\n",
        "*   Define a new string \"recipe\" describing your dream sandwich separated with commas. (eg. recipe = \"bacon,cheese,butter,tomato\")\n",
        "*   Split the recipe into a list using the _.split()_ function. Store it as \"ingredients\".\n",
        "*   Print out the list containing ingredients.\n",
        "*   Print out the first and last ingredient.\n",
        "\n",
        "\n",
        "\n",
        "\n"
      ]
    },
    {
      "cell_type": "code",
      "metadata": {
        "id": "uY-wtQzzaxP_",
        "colab_type": "code",
        "outputId": "9a76adc4-fdf2-4d0a-83f3-0d787b03ebf7",
        "colab": {
          "base_uri": "https://localhost:8080/",
          "height": 34
        }
      },
      "source": [
        "input = \"white\"\n",
        "input_length = len(input)\n",
        "first_char = input[0]\n",
        "\n",
        "data = (first_char, input_length)\n",
        "\n",
        "print(\"First character of your colour is '%s' and it's length is %d !\" %data)\n"
      ],
      "execution_count": 0,
      "outputs": [
        {
          "output_type": "stream",
          "text": [
            "First character of your colour is 'w' and it's length is 5 !\n"
          ],
          "name": "stdout"
        }
      ]
    },
    {
      "cell_type": "code",
      "metadata": {
        "id": "1ZRc4jD8fTDG",
        "colab_type": "code",
        "outputId": "a59e3244-3cc1-403b-b595-63f39435290e",
        "colab": {
          "base_uri": "https://localhost:8080/",
          "height": 51
        }
      },
      "source": [
        "recipe = \"bacon,cheese,butter,tomato\"\n",
        "\n",
        "ingredients = recipe.split(\",\")\n",
        "print(ingredients)\n",
        "print(ingredients[0],ingredients[-1])\n"
      ],
      "execution_count": 0,
      "outputs": [
        {
          "output_type": "stream",
          "text": [
            "['bacon', 'cheese', 'butter', 'tomato']\n",
            "bacon tomato\n"
          ],
          "name": "stdout"
        }
      ]
    },
    {
      "cell_type": "markdown",
      "metadata": {
        "id": "XWBCSCfHB3we",
        "colab_type": "text"
      },
      "source": [
        "---\n",
        "## Conditions\n"
      ]
    },
    {
      "cell_type": "markdown",
      "metadata": {
        "id": "tQ_EofxWdD_z",
        "colab_type": "text"
      },
      "source": [
        "Python uses boolean variables to evaluate conditions. The boolean values True and False are returned when an expression is compared or evaluated\n",
        "\n",
        "Common conditions:\n",
        "\n",
        "*   Equality: _\"==\"_\n",
        "*   More/less than: _\">\"/\"<\"_\n",
        "*   More or equal/Less or equal to to: _\">=\"/\"<=\"_ **Note that = always comes after > or <**\n",
        "\n"
      ]
    },
    {
      "cell_type": "code",
      "metadata": {
        "id": "RjtL_DbmdSa1",
        "colab_type": "code",
        "outputId": "dd7d323e-21d3-4b8c-bf3a-9a49ebf1f8c7",
        "colab": {
          "base_uri": "https://localhost:8080/",
          "height": 85
        }
      },
      "source": [
        "x = 2\n",
        "y = 4\n",
        "\n",
        "print(x == 2)\n",
        "print(x == y)\n",
        "print(y > x)\n",
        "print(y < x)"
      ],
      "execution_count": 0,
      "outputs": [
        {
          "output_type": "stream",
          "text": [
            "True\n",
            "False\n",
            "True\n",
            "False\n"
          ],
          "name": "stdout"
        }
      ]
    },
    {
      "cell_type": "markdown",
      "metadata": {
        "id": "bL1s03oSdvQm",
        "colab_type": "text"
      },
      "source": [
        "In Python, you can combine statements using _\"and\"_ and _\"or\"_ operators."
      ]
    },
    {
      "cell_type": "code",
      "metadata": {
        "id": "TBkvJgRyd_2q",
        "colab_type": "code",
        "outputId": "9a606cc1-def8-4440-cdad-8a28c46bda96",
        "colab": {
          "base_uri": "https://localhost:8080/",
          "height": 51
        }
      },
      "source": [
        "print(x==2 and y==4)\n",
        "print(x==2 or x == 4)"
      ],
      "execution_count": 0,
      "outputs": [
        {
          "output_type": "stream",
          "text": [
            "True\n",
            "True\n"
          ],
          "name": "stdout"
        }
      ]
    },
    {
      "cell_type": "markdown",
      "metadata": {
        "id": "nqcgKyweeKnp",
        "colab_type": "text"
      },
      "source": [
        "One of the most key elements of Python is an _\"if\"_ statement. It allows you to evaluate a boolean and execute a method if the condition is true.\n",
        "\n",
        "Syntax:\n",
        "\n",
        "\n",
        "```\n",
        "if condtion_1:\n",
        "  statement_1\n",
        "elif condition_2:\n",
        "  statement_2\n",
        "else:\n",
        "  statement_3\n",
        "```\n",
        "\n",
        "Above, if condition_1 evaluates to True - statement_1 will be executed and vice versa.\n",
        "\n",
        "You can have as many statements as you want under an if statement. You can also have as many _elif_ statements as you want.\n",
        "\n",
        "Try changing code below - set weather \"sunny\" to \"rain\" or an empty string (\"\") and see what happens.\n",
        "  "
      ]
    },
    {
      "cell_type": "code",
      "metadata": {
        "id": "XphTWVsQeWn_",
        "colab_type": "code",
        "outputId": "c80f31b8-8613-4c8c-b376-f1545878eefa",
        "colab": {
          "base_uri": "https://localhost:8080/",
          "height": 34
        }
      },
      "source": [
        "weather = \"\"\n",
        "\n",
        "if weather == \"sunny\":\n",
        "  print(\"Time to go for a walk!\")\n",
        "elif weather == \"rain\":\n",
        "  print(\"Better stay inside buddy...\")\n",
        "else:\n",
        "  print(\"Dude idk.\")"
      ],
      "execution_count": 0,
      "outputs": [
        {
          "output_type": "stream",
          "text": [
            "Dude idk.\n"
          ],
          "name": "stdout"
        }
      ]
    },
    {
      "cell_type": "markdown",
      "metadata": {
        "id": "mCmURugHfwHn",
        "colab_type": "text"
      },
      "source": [
        "The _\"in\"_ operator can be used to check if a specified object exists within an iterable object container, such as a list:"
      ]
    },
    {
      "cell_type": "code",
      "metadata": {
        "id": "Eq4z4ZMnf8i-",
        "colab_type": "code",
        "outputId": "e25ac615-8eb7-4913-88c0-bf9d548d88b3",
        "colab": {
          "base_uri": "https://localhost:8080/",
          "height": 34
        }
      },
      "source": [
        "name = \"Jeff\"\n",
        "list_of_names = [\"Jeff\",\"Stephanie\",\"Lee\"]\n",
        "\n",
        "if name in list_of_names:\n",
        "  print(\"Name '%s' has been found in list: %s\" %(name,list_of_names))"
      ],
      "execution_count": 0,
      "outputs": [
        {
          "output_type": "stream",
          "text": [
            "Name 'Jeff' has been found in list: ['Jeff', 'Stephanie', 'Lee']\n"
          ],
          "name": "stdout"
        }
      ]
    },
    {
      "cell_type": "markdown",
      "metadata": {
        "id": "GR1-cypFgvxk",
        "colab_type": "text"
      },
      "source": [
        "#### The _\"is\"_ operator\n",
        "Unlike the double equals operator \"==\", the \"is\" operator does not match the values of the variables, but the instances themselves. For example:"
      ]
    },
    {
      "cell_type": "code",
      "metadata": {
        "id": "kAecuwSlg2di",
        "colab_type": "code",
        "outputId": "81d2517b-39d3-4bbe-f08e-d4610efb5dc9",
        "colab": {
          "base_uri": "https://localhost:8080/",
          "height": 51
        }
      },
      "source": [
        "x = [1,2,3]\n",
        "y = [1,2,3]\n",
        "\n",
        "print(x == y)\n",
        "print(x is y)"
      ],
      "execution_count": 0,
      "outputs": [
        {
          "output_type": "stream",
          "text": [
            "True\n",
            "False\n"
          ],
          "name": "stdout"
        }
      ]
    },
    {
      "cell_type": "markdown",
      "metadata": {
        "id": "SDqxQFbAg7YT",
        "colab_type": "text"
      },
      "source": [
        "x is the same as y, hence the first statement evaluates to True as they're equal.\n",
        "\n",
        "The second statement evaluates to False as the variables are not the same. However, you can set variables equal to each other:"
      ]
    },
    {
      "cell_type": "code",
      "metadata": {
        "id": "FxdLw1kLhPlr",
        "colab_type": "code",
        "outputId": "86fc76d9-0561-4d6a-e152-87e7106ac9cf",
        "colab": {
          "base_uri": "https://localhost:8080/",
          "height": 34
        }
      },
      "source": [
        "x = [1,2,3]\n",
        "y = x\n",
        "print(y is x)"
      ],
      "execution_count": 0,
      "outputs": [
        {
          "output_type": "stream",
          "text": [
            "True\n"
          ],
          "name": "stdout"
        }
      ]
    },
    {
      "cell_type": "markdown",
      "metadata": {
        "id": "xWaxdHt4hV_1",
        "colab_type": "text"
      },
      "source": [
        "The _\"not\"_ operator can be used to invert the boolean expression. Example:\n"
      ]
    },
    {
      "cell_type": "code",
      "metadata": {
        "id": "58fQUMuHhb4b",
        "colab_type": "code",
        "outputId": "bc1a17db-6dce-4462-c229-ce27230068a5",
        "colab": {
          "base_uri": "https://localhost:8080/",
          "height": 34
        }
      },
      "source": [
        "raining = True\n",
        "\n",
        "# Uncomment the line below and see what happens.\n",
        "# raining = not raining\n",
        "\n",
        "if raining:\n",
        "  print(\"It's raining :( \")\n",
        "else:\n",
        "  print(\"Yay, it's not raining because we've used not operator! :D\")"
      ],
      "execution_count": 0,
      "outputs": [
        {
          "output_type": "stream",
          "text": [
            "It's raining :( \n"
          ],
          "name": "stdout"
        }
      ]
    },
    {
      "cell_type": "markdown",
      "metadata": {
        "id": "ROnilOI-iHC4",
        "colab_type": "text"
      },
      "source": [
        "#### Your turn!\n",
        "Change the variables in the first section so that each _\"if\"_ statement evaluates to True."
      ]
    },
    {
      "cell_type": "code",
      "metadata": {
        "id": "tEVEblt2iQPg",
        "colab_type": "code",
        "colab": {}
      },
      "source": [
        "# change this code\n",
        "number = 10\n",
        "second_number = 10\n",
        "first_array = []\n",
        "second_array = [1,2,3]\n",
        "\n",
        "if number > 15:\n",
        "    print(\"1\")\n",
        "\n",
        "if first_array:\n",
        "    print(\"2\")\n",
        "\n",
        "if len(second_array) == 2:\n",
        "    print(\"3\")\n",
        "\n",
        "if len(first_array) + len(second_array) == 5:\n",
        "    print(\"4\")\n",
        "\n",
        "if first_array and first_array[0] == 1:\n",
        "    print(\"5\")\n",
        "\n",
        "if not second_number:\n",
        "    print(\"6\")"
      ],
      "execution_count": 0,
      "outputs": []
    },
    {
      "cell_type": "markdown",
      "metadata": {
        "id": "N2KsSg5ri0Fl",
        "colab_type": "text"
      },
      "source": [
        "---\n",
        "## Loops"
      ]
    },
    {
      "cell_type": "markdown",
      "metadata": {
        "id": "yUSTn2k9EFVz",
        "colab_type": "text"
      },
      "source": [
        "In Python, we use loops to iterate over items or iterate until a certain condition is met. There are two types of loops in Python - _\"for\" and \"while\"_ loops.\n",
        "\n",
        "#### The \"for\" loop\n",
        "\n",
        "For loop iterates over a fiven sequence."
      ]
    },
    {
      "cell_type": "code",
      "metadata": {
        "id": "ARKQ4X6XEfzP",
        "colab_type": "code",
        "outputId": "3ae7e9c0-d2ce-40dc-e39f-6aa46966e136",
        "colab": {
          "base_uri": "https://localhost:8080/",
          "height": 85
        }
      },
      "source": [
        "primes = [2,3,5,7]\n",
        "for prime in primes:\n",
        "  print(prime)"
      ],
      "execution_count": 0,
      "outputs": [
        {
          "output_type": "stream",
          "text": [
            "2\n",
            "3\n",
            "5\n",
            "7\n"
          ],
          "name": "stdout"
        }
      ]
    },
    {
      "cell_type": "markdown",
      "metadata": {
        "id": "OeJw7NimEpsC",
        "colab_type": "text"
      },
      "source": [
        "For loops can iterate over a sequence of numbers using _\"range\"_ function."
      ]
    },
    {
      "cell_type": "code",
      "metadata": {
        "id": "OiRWNB1pE66C",
        "colab_type": "code",
        "outputId": "9e0cad34-ae52-4d7a-81c5-e7c12bd9dd1c",
        "colab": {
          "base_uri": "https://localhost:8080/",
          "height": 119
        }
      },
      "source": [
        "range_test = range(5)\n",
        "print(range_test)\n",
        "\n",
        "for x in range_test:\n",
        "  print(x)"
      ],
      "execution_count": 0,
      "outputs": [
        {
          "output_type": "stream",
          "text": [
            "range(0, 5)\n",
            "0\n",
            "1\n",
            "2\n",
            "3\n",
            "4\n"
          ],
          "name": "stdout"
        }
      ]
    },
    {
      "cell_type": "markdown",
      "metadata": {
        "id": "NuGqh5NRFfZL",
        "colab_type": "text"
      },
      "source": [
        "There are also _\"while\"_ loops in Python. A while loop acts as a container which repeats the code block inside until the condition within the container is no longer True."
      ]
    },
    {
      "cell_type": "code",
      "metadata": {
        "id": "5imiyTHXFtou",
        "colab_type": "code",
        "outputId": "a0511235-acf1-410d-f32a-0af9a866c220",
        "colab": {
          "base_uri": "https://localhost:8080/",
          "height": 102
        }
      },
      "source": [
        "x = 0\n",
        "while(x < 5):\n",
        "  print(x)\n",
        "  x += 1 # Increment method in Python. Simply adds 1 to x. -= can be used to decrement. "
      ],
      "execution_count": 0,
      "outputs": [
        {
          "output_type": "stream",
          "text": [
            "0\n",
            "1\n",
            "2\n",
            "3\n",
            "4\n"
          ],
          "name": "stdout"
        }
      ]
    },
    {
      "cell_type": "markdown",
      "metadata": {
        "id": "arg5iYCEGZRo",
        "colab_type": "text"
      },
      "source": [
        "A break is used to break out of a function. You can condem an if check within the loop and if the condition is met, return. Example:"
      ]
    },
    {
      "cell_type": "code",
      "metadata": {
        "id": "KQzXmDEsGlIB",
        "colab_type": "code",
        "outputId": "a91945a5-08f8-46f3-ac53-7b0c285b6674",
        "colab": {
          "base_uri": "https://localhost:8080/",
          "height": 102
        }
      },
      "source": [
        "count = 0\n",
        "while True: # As True is always true, this will always execute.\n",
        "  print(count)\n",
        "  count += 1\n",
        "  if count >= 5:\n",
        "    break"
      ],
      "execution_count": 0,
      "outputs": [
        {
          "output_type": "stream",
          "text": [
            "0\n",
            "1\n",
            "2\n",
            "3\n",
            "4\n"
          ],
          "name": "stdout"
        }
      ]
    },
    {
      "cell_type": "markdown",
      "metadata": {
        "id": "4cj3rLzTG27B",
        "colab_type": "text"
      },
      "source": [
        "Similarly, _\"continue\"_ can be used to continue with the execution without executing the remainer of the block.\n"
      ]
    },
    {
      "cell_type": "code",
      "metadata": {
        "id": "WsMgvrGbHZT0",
        "colab_type": "code",
        "outputId": "d6b285ad-8c4f-4eed-db6a-36dfa13419df",
        "colab": {
          "base_uri": "https://localhost:8080/",
          "height": 102
        }
      },
      "source": [
        "for x in range(10):\n",
        "    # Check if x is even\n",
        "    if x % 2 == 0:\n",
        "        continue\n",
        "    print(x)"
      ],
      "execution_count": 0,
      "outputs": [
        {
          "output_type": "stream",
          "text": [
            "1\n",
            "3\n",
            "5\n",
            "7\n",
            "9\n"
          ],
          "name": "stdout"
        }
      ]
    },
    {
      "cell_type": "markdown",
      "metadata": {
        "id": "F6B1jO1oHlWx",
        "colab_type": "text"
      },
      "source": [
        "#### Your turn!\n",
        "\n",
        "Loop through and print out all even numbers from the numbers list in the same order they are received. Don't print any numbers that come after 237 in the sequence."
      ]
    },
    {
      "cell_type": "code",
      "metadata": {
        "id": "S0SBiii0HuUR",
        "colab_type": "code",
        "outputId": "1f325652-5d3c-45ca-a336-50a1e470e120",
        "colab": {
          "base_uri": "https://localhost:8080/",
          "height": 340
        }
      },
      "source": [
        "numbers = [\n",
        "    951, 402, 984, 651, 360, 69, 408, 319, 601, 485, 980, 507, 725, 547, 544,\n",
        "    615, 83, 165, 141, 501, 263, 617, 865, 575, 219, 390, 984, 592, 236, 105, 942, 941,\n",
        "    386, 462, 47, 418, 907, 344, 236, 375, 823, 566, 597, 978, 328, 615, 953, 345,\n",
        "    399, 162, 758, 219, 918, 237, 412, 566, 826, 248, 866, 950, 626, 949, 687, 217,\n",
        "    815, 67, 104, 58, 512, 24, 892, 894, 767, 553, 81, 379, 843, 831, 445, 742, 717,\n",
        "    958, 609, 842, 451, 688, 753, 854, 685, 93, 857, 440, 380, 126, 721, 328, 753, 470,\n",
        "    743, 527\n",
        "]\n",
        "\n",
        "# your code goes here"
      ],
      "execution_count": 0,
      "outputs": [
        {
          "output_type": "stream",
          "text": [
            "69\n",
            "83\n",
            "165\n",
            "141\n",
            "219\n",
            "236\n",
            "105\n",
            "47\n",
            "236\n",
            "162\n",
            "219\n",
            "217\n",
            "67\n",
            "104\n",
            "58\n",
            "24\n",
            "81\n",
            "93\n",
            "126\n"
          ],
          "name": "stdout"
        }
      ]
    },
    {
      "cell_type": "markdown",
      "metadata": {
        "id": "9d4Ahxr8i55Z",
        "colab_type": "text"
      },
      "source": [
        "---\n",
        "## Functions"
      ]
    },
    {
      "cell_type": "markdown",
      "metadata": {
        "id": "8II-AXFFIFfq",
        "colab_type": "text"
      },
      "source": [
        "#### What are Functions?\n",
        "Functions are a convenient way to divide your code into useful blocks, allowing us to order our code, make it more readable, reuse it and save some time. Also functions are a key way to define interfaces so programmers can share their code.\n",
        "\n",
        "In Python, you declare a function in the following manner:\n",
        "\n",
        "\n",
        "```\n",
        "def function(argument1,argument2):\n",
        "  1st block line\n",
        "  2nd block line\n",
        "  ...etc\n",
        "```\n",
        "\n",
        "Below is an example of a function. Call the function by entering the function name and provide it with an argument (Your name).\n",
        "\n",
        "\n"
      ]
    },
    {
      "cell_type": "code",
      "metadata": {
        "id": "4Srqan_QIo_-",
        "colab_type": "code",
        "outputId": "e4e6ee95-1b2c-432f-9d76-2dd0c3423b69",
        "colab": {
          "base_uri": "https://localhost:8080/",
          "height": 34
        }
      },
      "source": [
        "def say_hello(name):\n",
        "  print(\"Hello, %s\"%name)\n",
        "\n",
        "# say_hello(\"Jeff\")"
      ],
      "execution_count": 0,
      "outputs": [
        {
          "output_type": "stream",
          "text": [
            "Hello, Max\n"
          ],
          "name": "stdout"
        }
      ]
    },
    {
      "cell_type": "markdown",
      "metadata": {
        "id": "V_tDQ-lXJBcT",
        "colab_type": "text"
      },
      "source": [
        "Functions can return values without returning any visible output (console output). This can be done using the return statement."
      ]
    },
    {
      "cell_type": "code",
      "metadata": {
        "id": "8JJ5ajhjJI40",
        "colab_type": "code",
        "outputId": "9b6c2688-2d6f-45c6-fb4a-e8ab9e71ddda",
        "colab": {
          "base_uri": "https://localhost:8080/",
          "height": 34
        }
      },
      "source": [
        "def sum_two_numbers(a , b):\n",
        "  return a + b\n",
        "\n",
        "s = sum_two_numbers(4,2)\n",
        "print(s)"
      ],
      "execution_count": 0,
      "outputs": [
        {
          "output_type": "stream",
          "text": [
            "6\n"
          ],
          "name": "stdout"
        }
      ]
    },
    {
      "cell_type": "markdown",
      "metadata": {
        "id": "VtepT_QsJcyu",
        "colab_type": "text"
      },
      "source": [
        "#### Your turn!\n",
        "In this exercise you'll use an existing function, and while adding your own to create a fully functional program.\n",
        "\n",
        "1.   Add a function named list_benefits() that returns the following list of strings: \"More organized code\", \"More readable code\", \"Easier code reuse\", \"Allowing programmers to share and connect code together\n",
        "\n",
        "2.   Add a function named build_sentence(info) which receives a single argument containing a string and returns a sentence starting with the given string and ending with the string \" is a benefit of functions!\"\n",
        "\n",
        "3.   Run and see all the functions work together!\n",
        "\n"
      ]
    },
    {
      "cell_type": "code",
      "metadata": {
        "id": "vkXEAEt2LGGc",
        "colab_type": "code",
        "colab": {}
      },
      "source": [
        "# Modify this function to return a list of strings as defined above\n",
        "def list_benefits():\n",
        "    pass\n",
        "\n",
        "# Modify this function to concatenate to each benefit - \" is a benefit of functions!\"\n",
        "def build_sentence(benefit):\n",
        "    pass\n",
        "\n",
        "def name_the_benefits_of_functions():\n",
        "    list_of_benefits = list_benefits()\n",
        "    for benefit in list_of_benefits:\n",
        "        print(build_sentence(benefit))\n",
        "\n",
        "name_the_benefits_of_functions()"
      ],
      "execution_count": 0,
      "outputs": []
    },
    {
      "cell_type": "markdown",
      "metadata": {
        "id": "xvdSMguqLHiI",
        "colab_type": "text"
      },
      "source": [
        "Answer:"
      ]
    },
    {
      "cell_type": "code",
      "metadata": {
        "id": "TwTvidhRKRtl",
        "colab_type": "code",
        "colab": {}
      },
      "source": [
        "# Modify this function to return a list of strings as defined above\n",
        "def list_benefits():\n",
        "    return []\n",
        "\n",
        "# Modify this function to concatenate to each benefit - \" is a benefit of functions!\"\n",
        "def build_sentence(benefit):\n",
        "    return None\n",
        "\n",
        "def name_the_benefits_of_functions():\n",
        "    list_of_benefits = list_benefits()\n",
        "    for benefit in list_of_benefits:\n",
        "        print(build_sentence(benefit))\n",
        "\n",
        "name_the_benefits_of_functions()"
      ],
      "execution_count": 0,
      "outputs": []
    },
    {
      "cell_type": "markdown",
      "metadata": {
        "id": "3QVEHhx8i8UJ",
        "colab_type": "text"
      },
      "source": [
        "---\n",
        "## Classes and Objects"
      ]
    },
    {
      "cell_type": "markdown",
      "metadata": {
        "id": "sdKPByq2DzsX",
        "colab_type": "text"
      },
      "source": [
        "Just like in real life, classes are used in Python to group similar items together. To explain, you can have an object car:\n",
        "\n",
        "*   A car can have multiple properties like colour, engine size, make, production year, etc... These properties are called variables. \n",
        "\n",
        "*   A car can also have multiple function. Like driving, braking, steering and so on.\n",
        "\n",
        "Below is a simple implementation of car class:"
      ]
    },
    {
      "cell_type": "code",
      "metadata": {
        "id": "jAdQWkEhEcrC",
        "colab_type": "code",
        "outputId": "195b2ab8-b22c-463b-e151-4e779114952b",
        "colab": {
          "base_uri": "https://localhost:8080/",
          "height": 68
        }
      },
      "source": [
        "class Car:\n",
        "  colour = None\n",
        "\n",
        "  def setColour(self,colour):\n",
        "    self.colour = colour\n",
        "\n",
        "  def drive(self):\n",
        "    print(\"Skrttt\")\n",
        "\n",
        "  def brake(self):\n",
        "    print(\"Yeet\")\n",
        "  \n",
        "  def honk(self):\n",
        "    print(\"Beep beep\")\n",
        "    \n",
        "\n",
        "\n",
        "carObject = Car()\n",
        "carObject.brake()\n",
        "\n",
        "print(carObject.colour)     # Colour is not set.\n",
        "carObject.setColour(\"red\")  # Setting the colour to red\n",
        "print(carObject.colour)     # Colour is now set!\n",
        "\n",
        "\n"
      ],
      "execution_count": 0,
      "outputs": [
        {
          "output_type": "stream",
          "text": [
            "Yeet\n",
            "None\n",
            "red\n"
          ],
          "name": "stdout"
        }
      ]
    },
    {
      "cell_type": "markdown",
      "metadata": {
        "id": "Q0UsLBS9Eocl",
        "colab_type": "text"
      },
      "source": [
        "Note that by convention, in any coding language, a class always starts with an uppercase letter.\n",
        "\n",
        "The keyword _\"self\"_ is used if you want to use an instance of the class within the method. In order to edit the colour of the car, the _\"setColour\"_ method must have the instance of the object."
      ]
    },
    {
      "cell_type": "markdown",
      "metadata": {
        "id": "HjUOV6TKHgv-",
        "colab_type": "text"
      },
      "source": [
        "#### Your turn!\n",
        "\n",
        "We have a class defined for vehicles.\n",
        "\n",
        "*   car1 has been defined for you however you want to be able to afford it, edit the value of the car to be 10.\n",
        "*   Create a new vehicle, _\"thomasTheDankEngine\"_, to be a blue train worth 69,000 with a name \"Thomas\"\n"
      ]
    },
    {
      "cell_type": "code",
      "metadata": {
        "id": "y8L8euX7I9wQ",
        "colab_type": "code",
        "outputId": "911c92b0-f413-4c03-87ab-04e3c7a370ed",
        "colab": {
          "base_uri": "https://localhost:8080/",
          "height": 34
        }
      },
      "source": [
        "class Vehicle:\n",
        "  name = None\n",
        "  kind = None\n",
        "  colour = None\n",
        "  value = None\n",
        "\n",
        "  def description(self):\n",
        "    desc_str = \"%s is a %s %s worth %.2f\" % (self.name,self.colour,self.kind,self.value)\n",
        "    return desc_str\n",
        "\n",
        "car1 = Vehicle()\n",
        "car1.name = \"Ferrari\"\n",
        "car1.kind = \"convertible\"\n",
        "car1.colour = \"red\"\n",
        "car1.value = 60000 # Change this value\n",
        "car1.description()"
      ],
      "execution_count": 0,
      "outputs": [
        {
          "output_type": "execute_result",
          "data": {
            "text/plain": [
              "'Ferrari is a red convertible worth 60000.00'"
            ]
          },
          "metadata": {
            "tags": []
          },
          "execution_count": 13
        }
      ]
    },
    {
      "cell_type": "markdown",
      "metadata": {
        "id": "CvJFk0lii9IM",
        "colab_type": "text"
      },
      "source": [
        "---\n",
        "## Dictionaries"
      ]
    },
    {
      "cell_type": "markdown",
      "metadata": {
        "id": "l7YdiBh-KKvz",
        "colab_type": "text"
      },
      "source": [
        "In programming, we use dictionaries not to store a value according to some key. This means that we can store values of anything, not just words.\n",
        "\n",
        "A dictionary consists of two parts:\n",
        "\n",
        "*   A key. This is a word in a standard dictionary.\n",
        "*   A value. This is the definition of the word.\n",
        "\n",
        "For our example we are going to define a dictionary of pints you can get at Impy and their price:\n",
        "\n",
        "(All values are taken from www.pints.wtf)\n"
      ]
    },
    {
      "cell_type": "code",
      "metadata": {
        "id": "Hed0ZY9ulmbs",
        "colab_type": "code",
        "outputId": "3890ea94-e5db-48d8-e849-b03c916f1f3d",
        "colab": {
          "base_uri": "https://localhost:8080/",
          "height": 34
        }
      },
      "source": [
        "pints = {\n",
        "    \"Greene King IPA\": 1.49,\n",
        "    \"Magners\": 1.99,\n",
        "    \"Sharp's Doom Bar\": 1.99,\n",
        "}\n",
        "\n",
        "print(pints)  # This will display the entire array."
      ],
      "execution_count": 0,
      "outputs": [
        {
          "output_type": "stream",
          "text": [
            "{'Greene King IPA': 1.49, 'Magners': 1.99, \"Sharp's Doom Bar\": 1.99}\n"
          ],
          "name": "stdout"
        }
      ]
    },
    {
      "cell_type": "code",
      "metadata": {
        "id": "XY73z_0bMvP1",
        "colab_type": "code",
        "outputId": "07b200bc-4e3b-4b35-bdac-74548ee5a026",
        "colab": {
          "base_uri": "https://localhost:8080/",
          "height": 34
        }
      },
      "source": [
        "# You can change a value of a key like this:\n",
        "pints[\"Greene King IPA\"] = 1.69\n",
        "print(pints)"
      ],
      "execution_count": 0,
      "outputs": [
        {
          "output_type": "stream",
          "text": [
            "{'Greene King IPA': 1, 'Magners': 1.99, \"Sharp's Doom Bar\": 1.99}\n"
          ],
          "name": "stdout"
        }
      ]
    },
    {
      "cell_type": "code",
      "metadata": {
        "id": "VccGtqwBM1RT",
        "colab_type": "code",
        "outputId": "8d7d3a73-0733-4d24-be57-5b870068868a",
        "colab": {
          "base_uri": "https://localhost:8080/",
          "height": 68
        }
      },
      "source": [
        "# You can also iterate over all items in the array like this:\n",
        "counter = 1\n",
        "for name,value in pints.items():\n",
        "  print(\"Rank %d: %s at %.2f\" % (counter,name,value))\n",
        "  counter += 1"
      ],
      "execution_count": 0,
      "outputs": [
        {
          "output_type": "stream",
          "text": [
            "Rank 1: Greene King IPA at 1.49\n",
            "Rank 2: Magners at 1.99\n",
            "Rank 3: Sharp's Doom Bar at 1.99\n"
          ],
          "name": "stdout"
        }
      ]
    },
    {
      "cell_type": "code",
      "metadata": {
        "id": "YWuNqV7VMwSS",
        "colab_type": "code",
        "outputId": "a5620b9e-e248-4c5d-c54d-12228d84b65f",
        "colab": {
          "base_uri": "https://localhost:8080/",
          "height": 68
        }
      },
      "source": [
        "pints = {\n",
        "    \"Greene King IPA\": 1.49,\n",
        "    \"Magners\": 1.99,\n",
        "    \"Sharp's Doom Bar\": 1.99,\n",
        "}\n",
        "print(\"Original dictionary: \",pints)\n",
        "\n",
        "# You can also remove a value like this:\n",
        "del pints[\"Sharp's Doom Bar\"]\n",
        "print(\"Removing Sharps: \",pints)\n",
        "\n",
        "# OR you can use .pop() function\n",
        "pints.pop(\"Magners\")\n",
        "print(\"Removing Magners :'( \",pints)"
      ],
      "execution_count": 0,
      "outputs": [
        {
          "output_type": "stream",
          "text": [
            "Original dictionary:  {'Greene King IPA': 1.49, 'Magners': 1.99, \"Sharp's Doom Bar\": 1.99}\n",
            "Removing Sharps:  {'Greene King IPA': 1.49, 'Magners': 1.99}\n",
            "Removing Magners :'(  {'Greene King IPA': 1.49}\n"
          ],
          "name": "stdout"
        }
      ]
    },
    {
      "cell_type": "code",
      "metadata": {
        "id": "kBayXpsGPCin",
        "colab_type": "code",
        "outputId": "e8425302-ec5f-408b-df8c-e87178117269",
        "colab": {
          "base_uri": "https://localhost:8080/",
          "height": 34
        }
      },
      "source": [
        "# You can add a value to a dictionary like this:\n",
        "pints[\"Thatcher's Gold\"] = 2.69\n",
        "print(pints)"
      ],
      "execution_count": 0,
      "outputs": [
        {
          "output_type": "stream",
          "text": [
            "{'Greene King IPA': 1.49, \"Thatcher's Gold\": 2.69}\n"
          ],
          "name": "stdout"
        }
      ]
    },
    {
      "cell_type": "markdown",
      "metadata": {
        "id": "pnHKc6NkOkFH",
        "colab_type": "text"
      },
      "source": [
        "#### Your turn:\n",
        "\n",
        "A dictionary called _\"phonebook\"_ has been defined for you. \n",
        "\n",
        " \n",
        "\n",
        "*   Add \"Jake\" to the phone book and assign his number to 555.\n",
        "*   Remove Kim from the phone book,\n",
        "\n"
      ]
    },
    {
      "cell_type": "code",
      "metadata": {
        "id": "l_O2GZWvPh-j",
        "colab_type": "code",
        "outputId": "a54445da-43ab-4498-c1b0-5d69adb37962",
        "colab": {
          "base_uri": "https://localhost:8080/",
          "height": 51
        }
      },
      "source": [
        "phonebook = {\n",
        "    \"Jeff\": 938477566,\n",
        "    \"Courtney\" : 938477567,\n",
        "    \"Kim\" : 938477568\n",
        "}\n",
        "\n",
        "# write your code here\n",
        "\n",
        "\n",
        "\n",
        "# testing code (don't change this)\n",
        "if(\"Jake\" in phonebook):\n",
        "  print(\"Jake is listed in the phonebook, yay\")\n",
        "if(\"Jake\" not in phonebook):\n",
        "  print(\"Jake is still not listed in the phone book...\")\n",
        "\n",
        "if(\"Kim\" in phonebook):\n",
        "  print(\"Kim is still in phonebook...\")\n",
        "if(\"Kim\" not in phonebook):\n",
        "  print(\"Kim has been removed! Yay\")"
      ],
      "execution_count": 0,
      "outputs": [
        {
          "output_type": "stream",
          "text": [
            "Jake is still not listed in the phone book...\n",
            "Kim is still in phonebook...\n"
          ],
          "name": "stdout"
        }
      ]
    }
  ]
}